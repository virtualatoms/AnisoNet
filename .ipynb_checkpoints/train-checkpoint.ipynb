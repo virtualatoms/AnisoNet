{
 "cells": [
  {
   "cell_type": "code",
   "execution_count": 1,
   "id": "fed9efcb-35a5-41f8-8fd0-6b03913ffd2a",
   "metadata": {},
   "outputs": [
    {
     "name": "stderr",
     "output_type": "stream",
     "text": [
      "Seed set to 1234\n"
     ]
    }
   ],
   "source": [
    "import warnings\n",
    "warnings.filterwarnings(\"ignore\")\n",
    "import torch\n",
    "from lightning import seed_everything\n",
    "from e3nn.io import CartesianTensor\n",
    "import pandas as pd\n",
    "\n",
    "seed_everything(1234)\n",
    "torch.multiprocessing.set_sharing_strategy('file_system')\n",
    "default_dtype = torch.float64\n",
    "torch.set_default_dtype(default_dtype)\n",
    "\n",
    "from utils_data import load_data\n",
    "\n",
    "ct = CartesianTensor(\"ij=ji\")\n",
    "file_path = '../our-dielectric-dataset.csv'\n",
    "df = load_data(file_path,ct)\n",
    "\n",
    "df = df[df[\"dielectric_scalar\"] < 15]\n",
    "df = df.reset_index(drop=True)\n",
    "df.rename({\"dielectric_irreps\": \"target\"}, axis=1, inplace=True)"
   ]
  },
  {
   "cell_type": "code",
   "execution_count": 2,
   "id": "adb4b437-fb3b-4747-a1cc-f78cf211d80f",
   "metadata": {},
   "outputs": [
    {
     "name": "stderr",
     "output_type": "stream",
     "text": [
      "100%|██████████████████████████████████████████████████████████████████████████████| 200/200 [00:00<00:00, 2298.82it/s]\n"
     ]
    }
   ],
   "source": [
    "from utils_data import BaseDataset\n",
    "from utils_model import E3nnModel\n",
    "from utils_train import BaseLightning\n",
    "from lightning.pytorch import Trainer\n",
    "from pytorch_lightning.loggers import CSVLogger\n",
    "dataset = BaseDataset(df[:200], cutoff=5)"
   ]
  },
  {
   "cell_type": "code",
   "execution_count": 3,
   "id": "3744a055-89fd-4408-b1b7-757f745fc1eb",
   "metadata": {},
   "outputs": [],
   "source": [
    "net = E3nnModel(\n",
    "    in_dim=118,                     # dimension of one-hot node feature\n",
    "    in_attr_dim=118,                # dimension of one-hot node attribute\n",
    "    em_dim=48,                      # dimension of node feature embedding\n",
    "    em_attr_dim=48,                 # dimension of node attribute embedding\n",
    "    irreps_out=str(ct),             # output irrep shape\n",
    "    layers=2,                       # number of gate layers\n",
    "    mul=48,                         # multiplicity of features after each layers\n",
    "    lmax=3,                         # highest l for spherical harmonics\n",
    "    max_radius=dataset.cutoff,\n",
    "    number_of_basis=15,             # basis for radial embedding\n",
    "    num_neighbors=dataset.num_neigbours,\n",
    "    reduce_output=True,\n",
    "    same_em_layer=True              # whether to use the same embedding layer for one-hot atom type and one-hot atomic mass\n",
    ")"
   ]
  },
  {
   "cell_type": "code",
   "execution_count": 4,
   "id": "6321463d-6100-462f-97aa-3d09cf17a1e6",
   "metadata": {},
   "outputs": [],
   "source": [
    "optimizer = torch.optim.AdamW(net.parameters(), lr=0.003, weight_decay=0.03)\n",
    "scheduler = torch.optim.lr_scheduler.ExponentialLR(optimizer, gamma=0.98)"
   ]
  },
  {
   "cell_type": "code",
   "execution_count": 5,
   "id": "970b984e-f562-4628-af4d-a5a44c1814b2",
   "metadata": {},
   "outputs": [
    {
     "name": "stderr",
     "output_type": "stream",
     "text": [
      "GPU available: True (cuda), used: True\n",
      "TPU available: False, using: 0 TPU cores\n",
      "IPU available: False, using: 0 IPUs\n",
      "HPU available: False, using: 0 HPUs\n",
      "The following callbacks returned in `LightningModule.configure_callbacks` will override existing callbacks passed to Trainer: ModelCheckpoint\n",
      "You are using a CUDA device ('NVIDIA GeForce RTX 3080 Ti') that has Tensor Cores. To properly utilize them, you should set `torch.set_float32_matmul_precision('medium' | 'high')` which will trade-off precision for performance. For more details, read https://pytorch.org/docs/stable/generated/torch.set_float32_matmul_precision.html#torch.set_float32_matmul_precision\n",
      "LOCAL_RANK: 0 - CUDA_VISIBLE_DEVICES: [0]\n",
      "\n",
      "  | Name  | Type      | Params\n",
      "------------------------------------\n",
      "0 | model | E3nnModel | 10.4 M\n",
      "------------------------------------\n",
      "10.4 M    Trainable params\n",
      "0         Non-trainable params\n",
      "10.4 M    Total params\n",
      "41.471    Total estimated model params size (MB)\n"
     ]
    }
   ],
   "source": [
    "model = BaseLightning(\n",
    "    dataset,\n",
    "    net,\n",
    "    batch_size=12,\n",
    "    optimizer=optimizer,\n",
    "    scheduler=scheduler\n",
    ")\n",
    "\n",
    "trainer = Trainer(\n",
    "    max_epochs=120,\n",
    "    accelerator=\"gpu\",\n",
    "    logger=CSVLogger(\".\", name=\"stock_models\"),\n",
    "    enable_progress_bar=True,\n",
    "    # strategy=\"ddp_spawn\",\n",
    ")\n",
    "trainer.fit(model)"
   ]
  },
  {
   "cell_type": "code",
   "execution_count": null,
   "id": "f501650b-b84e-4152-aab8-e3562da1e9eb",
   "metadata": {},
   "outputs": [],
   "source": []
  },
  {
   "cell_type": "code",
   "execution_count": null,
   "id": "319ab01b-c641-40cb-a886-a4ad970d876d",
   "metadata": {},
   "outputs": [],
   "source": []
  }
 ],
 "metadata": {
  "kernelspec": {
   "display_name": "Python 3 (ipykernel)",
   "language": "python",
   "name": "python3"
  },
  "language_info": {
   "codemirror_mode": {
    "name": "ipython",
    "version": 3
   },
   "file_extension": ".py",
   "mimetype": "text/x-python",
   "name": "python",
   "nbconvert_exporter": "python",
   "pygments_lexer": "ipython3",
   "version": "3.9.18"
  }
 },
 "nbformat": 4,
 "nbformat_minor": 5
}
