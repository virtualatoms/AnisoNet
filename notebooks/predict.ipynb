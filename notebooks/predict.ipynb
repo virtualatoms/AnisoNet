{
 "cells": [
  {
   "cell_type": "code",
   "execution_count": 1,
   "id": "973dec3e-0970-46f2-8a4c-e4c121c42e8d",
   "metadata": {},
   "outputs": [
    {
     "name": "stderr",
     "output_type": "stream",
     "text": [
      "Seed set to 1234\n"
     ]
    }
   ],
   "source": [
    "import warnings\n",
    "warnings.filterwarnings(\"ignore\")\n",
    "import torch\n",
    "from lightning import seed_everything\n",
    "from e3nn.io import CartesianTensor\n",
    "from numpy import array\n",
    "import pandas as pd\n",
    "from ase import Atoms\n",
    "import numpy as np\n",
    "from anisonet.data import BaseDataset\n",
    "seed_everything(1234)\n",
    "from tqdm import tqdm\n",
    "\n",
    "default_dtype = torch.float64\n",
    "torch.set_default_dtype(default_dtype)\n",
    "\n",
    "ct = CartesianTensor(\"ij=ji\")"
   ]
  },
  {
   "cell_type": "code",
   "execution_count": 2,
   "id": "40239b09-56c2-4665-803d-36d0712913ba",
   "metadata": {},
   "outputs": [
    {
     "name": "stderr",
     "output_type": "stream",
     "text": [
      "100%|████████████████████████████████████████████████████████████| 20/20 [00:00<00:00, 1609.51it/s]\n"
     ]
    }
   ],
   "source": [
    "df_MP = pd.read_pickle(\"../dataset/df_with_dim.p\") # replace with your dataset\n",
    "df_MP = df_MP.head(20)\n",
    "\n",
    "df_MP['target'] = [[0.0, 0.0, 0.0, 0.0, 0.0, 0.0] for _ in range(len(df_MP))] # make an empty target column just for graph construction\n",
    "\n",
    "dataset = BaseDataset(df_MP, cutoff=5)"
   ]
  },
  {
   "cell_type": "code",
   "execution_count": 3,
   "id": "e7df98c0-c453-4c1c-866a-63d273f942b7",
   "metadata": {},
   "outputs": [],
   "source": [
    "from anisonet.model import E3nnModel\n",
    "net = E3nnModel(                           # This is the model itself\n",
    "    in_dim=118,                            # dimension of one-hot encoding of atom type\n",
    "    em_dim=48,                             # dim of node_input\n",
    "    in_attr_dim=118,\n",
    "    em_attr_dim=48,                        # dim of node_attr\n",
    "    irreps_out=str(ct),\n",
    "    layers=2,                              # number of nonlinearities (number of convolutions = layers + 1)\n",
    "    mul=48,                                # multiplicity of irreducible representations\n",
    "    lmax=3,                                # maximum order of spherical harmonics\n",
    "    max_radius=dataset.cutoff,             # cutoff radius for convolution\n",
    "    number_of_basis=15,\n",
    "    num_neighbors=dataset.num_neighbors,   # scaling factor based on the typical number of neighbors\n",
    "    reduce_output=True,                    # whether or not to aggregate features of all atoms at the end\n",
    "    same_em_layer=True\n",
    ")\n",
    "\n",
    "from anisonet.train import BaseLightning\n",
    "model = BaseLightning(                     # this is the lightning wrapper\n",
    "    dataset,\n",
    "    net,\n",
    "    batch_size=12,\n",
    "    optimizer=None,\n",
    "    scheduler=None\n",
    ")\n",
    "\n",
    "checkpoint_path = \"anisonet-stock.ckpt\"     # Change this to the actual path\n",
    "checkpoint = torch.load(checkpoint_path)\n",
    "state_dict = checkpoint['state_dict']\n",
    "adjusted_state_dict = {key.replace(\"model.\", \"\"): value for key, value in state_dict.items()}\n",
    "net.load_state_dict(adjusted_state_dict)\n",
    "model.setup()"
   ]
  },
  {
   "cell_type": "code",
   "execution_count": 4,
   "id": "31b720e6-467d-4c35-af70-3b202eda46b1",
   "metadata": {},
   "outputs": [
    {
     "name": "stderr",
     "output_type": "stream",
     "text": [
      "100%|████████████████████████████████████████████████████████████████| 2/2 [00:02<00:00,  1.27s/it]\n"
     ]
    }
   ],
   "source": [
    "net = net.eval().to(\"cuda\")\n",
    "dataloader = model.train_dataloader()\n",
    "out = torch.empty(0, 6).to(\"cuda\")\n",
    "\n",
    "with torch.no_grad():\n",
    "    for batch in tqdm(dataloader):\n",
    "        batch.to(\"cuda\")\n",
    "        predictions = net(batch)\n",
    "        out = torch.cat((out, predictions), dim=0)\n",
    "\n",
    "cart_pred = ct.to_cartesian(torch.tensor(out.detach().to(\"cpu\")))\n",
    "cart_pred_scalar = [np.linalg.eigvalsh(x).mean() for x in cart_pred]\n",
    "ar_pred = [np.linalg.eigvalsh(x).max()/np.linalg.eigvalsh(x).min() for x in cart_pred]"
   ]
  },
  {
   "cell_type": "code",
   "execution_count": 5,
   "id": "7e2ca2b3-0f83-453c-980f-d743b76c9bd5",
   "metadata": {},
   "outputs": [
    {
     "data": {
      "text/plain": [
       "[np.float64(1.0368581018918632),\n",
       " np.float64(1.1114086654215025),\n",
       " np.float64(1.2459092036863955),\n",
       " np.float64(1.0000000000047657),\n",
       " np.float64(1.0000000000000004),\n",
       " np.float64(1.0000001723005107),\n",
       " np.float64(1.1536169543788604),\n",
       " np.float64(1.0000000000000002),\n",
       " np.float64(1.0000000000000004),\n",
       " np.float64(1.0000332458823564),\n",
       " np.float64(1.1123274135053172),\n",
       " np.float64(1.0000000000000002),\n",
       " np.float64(1.3368763550954919),\n",
       " np.float64(1.0156822157422156),\n",
       " np.float64(1.0351968177676922),\n",
       " np.float64(1.0000122543412633)]"
      ]
     },
     "execution_count": 5,
     "metadata": {},
     "output_type": "execute_result"
    }
   ],
   "source": [
    "ar_pred"
   ]
  }
 ],
 "metadata": {
  "kernelspec": {
   "display_name": "Python 3 (ipykernel)",
   "language": "python",
   "name": "python3"
  },
  "language_info": {
   "codemirror_mode": {
    "name": "ipython",
    "version": 3
   },
   "file_extension": ".py",
   "mimetype": "text/x-python",
   "name": "python",
   "nbconvert_exporter": "python",
   "pygments_lexer": "ipython3",
   "version": "3.10.16"
  }
 },
 "nbformat": 4,
 "nbformat_minor": 5
}
