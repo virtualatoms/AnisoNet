{
 "cells": [
  {
   "cell_type": "code",
   "execution_count": null,
   "id": "973dec3e-0970-46f2-8a4c-e4c121c42e8d",
   "metadata": {},
   "outputs": [],
   "source": [
    "import warnings\n",
    "warnings.filterwarnings(\"ignore\")\n",
    "import torch\n",
    "from lightning import seed_everything\n",
    "from e3nn.io import CartesianTensor\n",
    "from numpy import array\n",
    "import pandas as pd\n",
    "from ase import Atoms\n",
    "import numpy as np\n",
    "from valml.data import BaseDataset\n",
    "seed_everything(1234)\n",
    "\n",
    "default_dtype = torch.float64\n",
    "torch.set_default_dtype(default_dtype)\n",
    "\n",
    "ct = CartesianTensor(\"ij=ji\")\n",
    "\n",
    "def load_data(filename, ct):\n",
    "    df = pd.read_csv(filename)\n",
    "    df['structure'] = df['structure'].map(lambda x: Atoms.fromdict(eval(x)))\n",
    "    return df\n"
   ]
  },
  {
   "cell_type": "code",
   "execution_count": null,
   "id": "40239b09-56c2-4665-803d-36d0712913ba",
   "metadata": {},
   "outputs": [],
   "source": [
    "df_MP = pd.read_pickle(\"../dataset/df_with_dim.p\") # replace with your dataset\n",
    "\n",
    "df = load_data(file_path,ct)\n",
    "\n",
    "df['target'] = [[0.0, 0.0, 0.0, 0.0, 0.0, 0.0] for _ in range(len(df))] # make an empty target column just for graph construction\n",
    "\n",
    "dataset = BaseDataset(df, cutoff=5)"
   ]
  },
  {
   "cell_type": "code",
   "execution_count": null,
   "id": "e7df98c0-c453-4c1c-866a-63d273f942b7",
   "metadata": {},
   "outputs": [],
   "source": [
    "from anisonet.model import E3nnModel\n",
    "net = E3nnModel(                           # This is the model itself\n",
    "    in_dim=118,                            # dimension of one-hot encoding of atom type\n",
    "    em_dim=48,                             # dim of node_input\n",
    "    in_attr_dim=118,\n",
    "    em_attr_dim=48,                         # dim of node_attr\n",
    "    irreps_out=str(ct),\n",
    "    layers=2,                              # number of nonlinearities (number of convolutions = layers + 1)\n",
    "    mul=48,                                # multiplicity of irreducible representations\n",
    "    lmax=3,                                # maximum order of spherical harmonics\n",
    "    max_radius=dataset.cutoff,             # cutoff radius for convolution\n",
    "    number_of_basis=15,\n",
    "    num_neighbors=dataset.num_neigbours,   # scaling factor based on the typical number of neighbors\n",
    "    reduce_output=True,                    # whether or not to aggregate features of all atoms at the end\n",
    "    same_em_layer=True\n",
    ")\n",
    "\n",
    "from anisonet.train import BaseLightning\n",
    "model = BaseLightning(                     # this is the lightning wrapper\n",
    "    dataset,\n",
    "    net,\n",
    "    batch_size=12,\n",
    "    optimizer=opt,\n",
    "    scheduler=scheduler\n",
    ")\n",
    "\n",
    "checkpoint_path = \"\"                       # Change this to the actual path\n",
    "checkpoint = torch.load(checkpoint_path)\n",
    "state_dict = checkpoint['state_dict']\n",
    "adjusted_state_dict = {key.replace(\"model.\", \"\"): value for key, value in state_dict.items()}\n",
    "net.load_state_dict(adjusted_state_dict)\n",
    "model.setup()"
   ]
  },
  {
   "cell_type": "code",
   "execution_count": null,
   "id": "31b720e6-467d-4c35-af70-3b202eda46b1",
   "metadata": {},
   "outputs": [],
   "source": [
    "net = net.eval().to(\"cuda\")\n",
    "dataloader = model.train_dataloader()\n",
    "out = torch.empty(0, 6).to(\"cuda\")\n",
    "\n",
    "with torch.no_grad():\n",
    "    for batch in tqdm(dataloader):\n",
    "        batch.to(\"cuda\")\n",
    "        predictions = net(batch)\n",
    "        out = torch.cat((out, predictions), dim=0)\n",
    "\n",
    "cart_pred = ct.to_cartesian(torch.tensor(out.detach().to(\"cpu\")))\n",
    "cart_pred_scalar = [np.linalg.eigvalsh(x).mean() for x in cart_pred]\n",
    "ar_pred = [np.linalg.eigvalsh(x).max()/np.linalg.eigvalsh(x).min() for x in cart_pred]"
   ]
  }
 ],
 "metadata": {
  "kernelspec": {
   "display_name": "Python 3 (ipykernel)",
   "language": "python",
   "name": "python3"
  },
  "language_info": {
   "codemirror_mode": {
    "name": "ipython",
    "version": 3
   },
   "file_extension": ".py",
   "mimetype": "text/x-python",
   "name": "python",
   "nbconvert_exporter": "python",
   "pygments_lexer": "ipython3",
   "version": "3.9.18"
  }
 },
 "nbformat": 4,
 "nbformat_minor": 5
}
